{
 "cells": [
  {
   "cell_type": "code",
   "execution_count": 1,
   "id": "cc37268d-6941-4fb1-a481-fc6b66a44f23",
   "metadata": {},
   "outputs": [
    {
     "name": "stdout",
     "output_type": "stream",
     "text": [
      "Requirement already satisfied: transformers in c:\\users\\s562137\\generative-ai-venv\\lib\\site-packages (4.38.1)\n",
      "Requirement already satisfied: torch in c:\\users\\s562137\\generative-ai-venv\\lib\\site-packages (2.2.1)\n",
      "Requirement already satisfied: datasets in c:\\users\\s562137\\generative-ai-venv\\lib\\site-packages (2.19.0)\n",
      "Requirement already satisfied: filelock in c:\\users\\s562137\\generative-ai-venv\\lib\\site-packages (from transformers) (3.13.1)\n",
      "Requirement already satisfied: huggingface-hub<1.0,>=0.19.3 in c:\\users\\s562137\\generative-ai-venv\\lib\\site-packages (from transformers) (0.22.2)\n",
      "Requirement already satisfied: numpy>=1.17 in c:\\users\\s562137\\generative-ai-venv\\lib\\site-packages (from transformers) (1.26.4)\n",
      "Requirement already satisfied: packaging>=20.0 in c:\\users\\s562137\\generative-ai-venv\\lib\\site-packages (from transformers) (23.2)\n",
      "Requirement already satisfied: pyyaml>=5.1 in c:\\users\\s562137\\generative-ai-venv\\lib\\site-packages (from transformers) (6.0.1)\n",
      "Requirement already satisfied: regex!=2019.12.17 in c:\\users\\s562137\\generative-ai-venv\\lib\\site-packages (from transformers) (2023.12.25)\n",
      "Requirement already satisfied: requests in c:\\users\\s562137\\generative-ai-venv\\lib\\site-packages (from transformers) (2.31.0)\n",
      "Requirement already satisfied: tokenizers<0.19,>=0.14 in c:\\users\\s562137\\generative-ai-venv\\lib\\site-packages (from transformers) (0.15.2)\n",
      "Requirement already satisfied: safetensors>=0.4.1 in c:\\users\\s562137\\generative-ai-venv\\lib\\site-packages (from transformers) (0.4.2)\n",
      "Requirement already satisfied: tqdm>=4.27 in c:\\users\\s562137\\generative-ai-venv\\lib\\site-packages (from transformers) (4.66.2)\n",
      "Requirement already satisfied: typing-extensions>=4.8.0 in c:\\users\\s562137\\generative-ai-venv\\lib\\site-packages (from torch) (4.9.0)\n",
      "Requirement already satisfied: sympy in c:\\users\\s562137\\generative-ai-venv\\lib\\site-packages (from torch) (1.12)\n",
      "Requirement already satisfied: networkx in c:\\users\\s562137\\generative-ai-venv\\lib\\site-packages (from torch) (3.2.1)\n",
      "Requirement already satisfied: jinja2 in c:\\users\\s562137\\generative-ai-venv\\lib\\site-packages (from torch) (3.1.3)\n",
      "Requirement already satisfied: fsspec in c:\\users\\s562137\\generative-ai-venv\\lib\\site-packages (from torch) (2024.2.0)\n",
      "Requirement already satisfied: pyarrow>=12.0.0 in c:\\users\\s562137\\generative-ai-venv\\lib\\site-packages (from datasets) (16.0.0)\n",
      "Requirement already satisfied: pyarrow-hotfix in c:\\users\\s562137\\generative-ai-venv\\lib\\site-packages (from datasets) (0.6)\n",
      "Requirement already satisfied: dill<0.3.9,>=0.3.0 in c:\\users\\s562137\\generative-ai-venv\\lib\\site-packages (from datasets) (0.3.8)\n",
      "Requirement already satisfied: pandas in c:\\users\\s562137\\generative-ai-venv\\lib\\site-packages (from datasets) (2.2.2)\n",
      "Requirement already satisfied: xxhash in c:\\users\\s562137\\generative-ai-venv\\lib\\site-packages (from datasets) (3.4.1)\n",
      "Requirement already satisfied: multiprocess in c:\\users\\s562137\\generative-ai-venv\\lib\\site-packages (from datasets) (0.70.16)\n",
      "Requirement already satisfied: aiohttp in c:\\users\\s562137\\generative-ai-venv\\lib\\site-packages (from datasets) (3.9.5)\n",
      "Requirement already satisfied: aiosignal>=1.1.2 in c:\\users\\s562137\\generative-ai-venv\\lib\\site-packages (from aiohttp->datasets) (1.3.1)\n",
      "Requirement already satisfied: attrs>=17.3.0 in c:\\users\\s562137\\generative-ai-venv\\lib\\site-packages (from aiohttp->datasets) (23.2.0)\n",
      "Requirement already satisfied: frozenlist>=1.1.1 in c:\\users\\s562137\\generative-ai-venv\\lib\\site-packages (from aiohttp->datasets) (1.4.1)\n",
      "Requirement already satisfied: multidict<7.0,>=4.5 in c:\\users\\s562137\\generative-ai-venv\\lib\\site-packages (from aiohttp->datasets) (6.0.5)\n",
      "Requirement already satisfied: yarl<2.0,>=1.0 in c:\\users\\s562137\\generative-ai-venv\\lib\\site-packages (from aiohttp->datasets) (1.9.4)\n",
      "Requirement already satisfied: charset-normalizer<4,>=2 in c:\\users\\s562137\\generative-ai-venv\\lib\\site-packages (from requests->transformers) (3.3.2)\n",
      "Requirement already satisfied: idna<4,>=2.5 in c:\\users\\s562137\\generative-ai-venv\\lib\\site-packages (from requests->transformers) (3.6)\n",
      "Requirement already satisfied: urllib3<3,>=1.21.1 in c:\\users\\s562137\\generative-ai-venv\\lib\\site-packages (from requests->transformers) (2.2.1)\n",
      "Requirement already satisfied: certifi>=2017.4.17 in c:\\users\\s562137\\generative-ai-venv\\lib\\site-packages (from requests->transformers) (2024.2.2)\n",
      "Requirement already satisfied: colorama in c:\\users\\s562137\\generative-ai-venv\\lib\\site-packages (from tqdm>=4.27->transformers) (0.4.6)\n",
      "Requirement already satisfied: MarkupSafe>=2.0 in c:\\users\\s562137\\generative-ai-venv\\lib\\site-packages (from jinja2->torch) (2.1.5)\n",
      "Requirement already satisfied: python-dateutil>=2.8.2 in c:\\users\\s562137\\generative-ai-venv\\lib\\site-packages (from pandas->datasets) (2.8.2)\n",
      "Requirement already satisfied: pytz>=2020.1 in c:\\users\\s562137\\generative-ai-venv\\lib\\site-packages (from pandas->datasets) (2024.1)\n",
      "Requirement already satisfied: tzdata>=2022.7 in c:\\users\\s562137\\generative-ai-venv\\lib\\site-packages (from pandas->datasets) (2024.1)\n",
      "Requirement already satisfied: mpmath>=0.19 in c:\\users\\s562137\\generative-ai-venv\\lib\\site-packages (from sympy->torch) (1.3.0)\n",
      "Requirement already satisfied: six>=1.5 in c:\\users\\s562137\\generative-ai-venv\\lib\\site-packages (from python-dateutil>=2.8.2->pandas->datasets) (1.16.0)\n"
     ]
    },
    {
     "name": "stderr",
     "output_type": "stream",
     "text": [
      "\n",
      "[notice] A new release of pip available: 22.3 -> 24.0\n",
      "[notice] To update, run: python.exe -m pip install --upgrade pip\n"
     ]
    }
   ],
   "source": [
    "!pip install transformers torch datasets"
   ]
  },
  {
   "cell_type": "code",
   "execution_count": 2,
   "id": "2240bce1-3339-4807-b653-0512747a4545",
   "metadata": {},
   "outputs": [
    {
     "name": "stdout",
     "output_type": "stream",
     "text": [
      "Requirement already satisfied: datasets in c:\\users\\s562137\\generative-ai-venv\\lib\\site-packages (2.19.0)\n",
      "Requirement already satisfied: filelock in c:\\users\\s562137\\generative-ai-venv\\lib\\site-packages (from datasets) (3.13.1)\n",
      "Requirement already satisfied: numpy>=1.17 in c:\\users\\s562137\\generative-ai-venv\\lib\\site-packages (from datasets) (1.26.4)\n",
      "Requirement already satisfied: pyarrow>=12.0.0 in c:\\users\\s562137\\generative-ai-venv\\lib\\site-packages (from datasets) (16.0.0)\n",
      "Requirement already satisfied: pyarrow-hotfix in c:\\users\\s562137\\generative-ai-venv\\lib\\site-packages (from datasets) (0.6)\n",
      "Requirement already satisfied: dill<0.3.9,>=0.3.0 in c:\\users\\s562137\\generative-ai-venv\\lib\\site-packages (from datasets) (0.3.8)\n",
      "Requirement already satisfied: pandas in c:\\users\\s562137\\generative-ai-venv\\lib\\site-packages (from datasets) (2.2.2)\n",
      "Requirement already satisfied: requests>=2.19.0 in c:\\users\\s562137\\generative-ai-venv\\lib\\site-packages (from datasets) (2.31.0)\n",
      "Requirement already satisfied: tqdm>=4.62.1 in c:\\users\\s562137\\generative-ai-venv\\lib\\site-packages (from datasets) (4.66.2)\n",
      "Requirement already satisfied: xxhash in c:\\users\\s562137\\generative-ai-venv\\lib\\site-packages (from datasets) (3.4.1)\n",
      "Requirement already satisfied: multiprocess in c:\\users\\s562137\\generative-ai-venv\\lib\\site-packages (from datasets) (0.70.16)\n",
      "Requirement already satisfied: fsspec[http]<=2024.3.1,>=2023.1.0 in c:\\users\\s562137\\generative-ai-venv\\lib\\site-packages (from datasets) (2024.2.0)\n",
      "Requirement already satisfied: aiohttp in c:\\users\\s562137\\generative-ai-venv\\lib\\site-packages (from datasets) (3.9.5)\n",
      "Requirement already satisfied: huggingface-hub>=0.21.2 in c:\\users\\s562137\\generative-ai-venv\\lib\\site-packages (from datasets) (0.22.2)\n",
      "Requirement already satisfied: packaging in c:\\users\\s562137\\generative-ai-venv\\lib\\site-packages (from datasets) (23.2)\n",
      "Requirement already satisfied: pyyaml>=5.1 in c:\\users\\s562137\\generative-ai-venv\\lib\\site-packages (from datasets) (6.0.1)\n",
      "Requirement already satisfied: aiosignal>=1.1.2 in c:\\users\\s562137\\generative-ai-venv\\lib\\site-packages (from aiohttp->datasets) (1.3.1)\n",
      "Requirement already satisfied: attrs>=17.3.0 in c:\\users\\s562137\\generative-ai-venv\\lib\\site-packages (from aiohttp->datasets) (23.2.0)\n",
      "Requirement already satisfied: frozenlist>=1.1.1 in c:\\users\\s562137\\generative-ai-venv\\lib\\site-packages (from aiohttp->datasets) (1.4.1)\n",
      "Requirement already satisfied: multidict<7.0,>=4.5 in c:\\users\\s562137\\generative-ai-venv\\lib\\site-packages (from aiohttp->datasets) (6.0.5)\n",
      "Requirement already satisfied: yarl<2.0,>=1.0 in c:\\users\\s562137\\generative-ai-venv\\lib\\site-packages (from aiohttp->datasets) (1.9.4)\n",
      "Requirement already satisfied: typing-extensions>=3.7.4.3 in c:\\users\\s562137\\generative-ai-venv\\lib\\site-packages (from huggingface-hub>=0.21.2->datasets) (4.9.0)\n",
      "Requirement already satisfied: charset-normalizer<4,>=2 in c:\\users\\s562137\\generative-ai-venv\\lib\\site-packages (from requests>=2.19.0->datasets) (3.3.2)\n",
      "Requirement already satisfied: idna<4,>=2.5 in c:\\users\\s562137\\generative-ai-venv\\lib\\site-packages (from requests>=2.19.0->datasets) (3.6)\n",
      "Requirement already satisfied: urllib3<3,>=1.21.1 in c:\\users\\s562137\\generative-ai-venv\\lib\\site-packages (from requests>=2.19.0->datasets) (2.2.1)\n",
      "Requirement already satisfied: certifi>=2017.4.17 in c:\\users\\s562137\\generative-ai-venv\\lib\\site-packages (from requests>=2.19.0->datasets) (2024.2.2)\n",
      "Requirement already satisfied: colorama in c:\\users\\s562137\\generative-ai-venv\\lib\\site-packages (from tqdm>=4.62.1->datasets) (0.4.6)\n",
      "Requirement already satisfied: python-dateutil>=2.8.2 in c:\\users\\s562137\\generative-ai-venv\\lib\\site-packages (from pandas->datasets) (2.8.2)\n",
      "Requirement already satisfied: pytz>=2020.1 in c:\\users\\s562137\\generative-ai-venv\\lib\\site-packages (from pandas->datasets) (2024.1)\n",
      "Requirement already satisfied: tzdata>=2022.7 in c:\\users\\s562137\\generative-ai-venv\\lib\\site-packages (from pandas->datasets) (2024.1)\n",
      "Requirement already satisfied: six>=1.5 in c:\\users\\s562137\\generative-ai-venv\\lib\\site-packages (from python-dateutil>=2.8.2->pandas->datasets) (1.16.0)\n"
     ]
    },
    {
     "name": "stderr",
     "output_type": "stream",
     "text": [
      "\n",
      "[notice] A new release of pip available: 22.3 -> 24.0\n",
      "[notice] To update, run: python.exe -m pip install --upgrade pip\n"
     ]
    }
   ],
   "source": [
    "!pip install datasets"
   ]
  },
  {
   "cell_type": "code",
   "execution_count": 3,
   "id": "a7af7c07-f7af-4c02-9b48-526ca035928d",
   "metadata": {},
   "outputs": [
    {
     "name": "stdout",
     "output_type": "stream",
     "text": [
      "Loading model...\n",
      "Loading dataset...\n"
     ]
    },
    {
     "ename": "NameError",
     "evalue": "name 'json' is not defined",
     "output_type": "error",
     "traceback": [
      "\u001b[1;31m---------------------------------------------------------------------------\u001b[0m",
      "\u001b[1;31mNameError\u001b[0m                                 Traceback (most recent call last)",
      "Cell \u001b[1;32mIn[3], line 16\u001b[0m\n\u001b[0;32m     14\u001b[0m \u001b[38;5;28mprint\u001b[39m(\u001b[38;5;124m\"\u001b[39m\u001b[38;5;124mLoading dataset...\u001b[39m\u001b[38;5;124m\"\u001b[39m)\n\u001b[0;32m     15\u001b[0m \u001b[38;5;28;01mwith\u001b[39;00m \u001b[38;5;28mopen\u001b[39m(dataset_file, \u001b[38;5;124m\"\u001b[39m\u001b[38;5;124mr\u001b[39m\u001b[38;5;124m\"\u001b[39m, encoding\u001b[38;5;241m=\u001b[39m\u001b[38;5;124m\"\u001b[39m\u001b[38;5;124mutf-8\u001b[39m\u001b[38;5;124m\"\u001b[39m) \u001b[38;5;28;01mas\u001b[39;00m f:  \u001b[38;5;66;03m# Specify the encoding as utf-8\u001b[39;00m\n\u001b[1;32m---> 16\u001b[0m     dataset \u001b[38;5;241m=\u001b[39m \u001b[43mjson\u001b[49m\u001b[38;5;241m.\u001b[39mload(f)\n\u001b[0;32m     18\u001b[0m \u001b[38;5;66;03m# Tokenize the dataset\u001b[39;00m\n\u001b[0;32m     19\u001b[0m tokenized_dataset \u001b[38;5;241m=\u001b[39m tokenizer([item[\u001b[38;5;124m\"\u001b[39m\u001b[38;5;124minput\u001b[39m\u001b[38;5;124m\"\u001b[39m] \u001b[38;5;28;01mfor\u001b[39;00m item \u001b[38;5;129;01min\u001b[39;00m dataset], truncation\u001b[38;5;241m=\u001b[39m\u001b[38;5;28;01mTrue\u001b[39;00m, padding\u001b[38;5;241m=\u001b[39m\u001b[38;5;28;01mTrue\u001b[39;00m)\n",
      "\u001b[1;31mNameError\u001b[0m: name 'json' is not defined"
     ]
    }
   ],
   "source": [
    "from transformers import GPT2LMHeadModel, GPT2Tokenizer\n",
    "import torch\n",
    "# Load the fine-tuned model\n",
    "model_name = \"gpt2\"\n",
    "print(\"Loading model...\")\n",
    "model = GPT2LMHeadModel.from_pretrained(model_name)\n",
    "tokenizer = GPT2Tokenizer.from_pretrained(model_name)\n",
    "\n",
    "# Add a padding token to the tokenizer\n",
    "tokenizer.add_special_tokens({'pad_token': '[PAD]'})\n",
    "\n",
    "# Load dataset from JSON file\n",
    "dataset_file = r\"C:\\Users\\S562137\\Downloads\\emojidataset [MConverter.eu].json\"  # Replace with the path to your JSON file\n",
    "print(\"Loading dataset...\")\n",
    "with open(dataset_file, \"r\", encoding=\"utf-8\") as f:  # Specify the encoding as utf-8\n",
    "    dataset = json.load(f)\n",
    "\n",
    "# Tokenize the dataset\n",
    "tokenized_dataset = tokenizer([item[\"input\"] for item in dataset], truncation=True, padding=True)\n",
    "\n",
    "# Prepare input IDs and labels\n",
    "input_ids = torch.tensor(tokenized_dataset[\"input_ids\"])\n",
    "labels = torch.tensor(tokenized_dataset[\"input_ids\"])  # For language modeling, labels are the same as input_ids\n",
    "\n",
    "# Print the shape of the input IDs\n",
    "print(\"Input IDs shape:\", input_ids.shape)\n"
   ]
  },
  {
   "cell_type": "code",
   "execution_count": null,
   "id": "df503428-137b-496b-9f27-b7289c44e0e5",
   "metadata": {},
   "outputs": [],
   "source": [
    "import json\n",
    "from tabulate import tabulate\n",
    "\n",
    "# Load the dataset from the JSON file\n",
    "dataset_file = r\"C:\\Users\\S562137\\Downloads\\emojidataset [MConverter.eu].json\"  # Replace with the path to your JSON file\n",
    "with open(dataset_file, \"r\", encoding=\"utf-8\") as f:\n",
    "    dataset = json.load(f)\n",
    "\n",
    "# Define a function to clean the text data\n",
    "def clean_text(text):\n",
    "    # Example: Convert text to lowercase\n",
    "    cleaned_text = text.lower()\n",
    "    # Add more cleaning steps if needed\n",
    "    return cleaned_text\n",
    "\n",
    "# Preprocess the data\n",
    "preprocessed_data = []\n",
    "for item in dataset:\n",
    "    input_text = clean_text(item[\"input\"])\n",
    "    emoji = item[\"emoji\"]\n",
    "    preprocessed_data.append([input_text, emoji])\n",
    "\n",
    "# Print the preprocessed data in a tabular format\n",
    "print(tabulate(preprocessed_data, headers=[\"Input Text\", \"Emoji\"], tablefmt=\"grid\"))\n"
   ]
  },
  {
   "cell_type": "code",
   "execution_count": null,
   "id": "4b2917af-1a42-4e30-ac7c-d6c63571323b",
   "metadata": {},
   "outputs": [],
   "source": [
    "def get_emoji(input_text):\n",
    "    emojis = {\n",
    "        \"happy\": \"😊\",\n",
    "        \"surprised\": \"😮\",\n",
    "        \"workout\": \"💪\",\n",
    "        \"achievement\": \"🎉\",\n",
    "        \"loved\": \"❤️\",\n",
    "        \"beautiful day\": \"☀️\",\n",
    "        \"excited\": \"🎉\",\n",
    "        \"sleepy\": \"😴\",\n",
    "        \"missing someone\": \"😢\",\n",
    "        \"coffee time\": \"☕️\",\n",
    "        \"pizza lover\": \"🍕\",\n",
    "        \"happy birthday\": \"🎉\",\n",
    "        \"hike\": \"🏞️\",\n",
    "        \"promotion\": \"🎊\",\n",
    "        \"stressed\": \"😩\",\n",
    "        \"what's up?\": \"🤔\",\n",
    "        \"waiting for weekend\": \"🎉\",\n",
    "        \"proud\": \"👏\",\n",
    "        \"confident\": \"😎\",\n",
    "        \"let's have fun\": \"🎉\",\n",
    "        \"unwell\": \"🤒\",\n",
    "        \"you're the best\": \"🥇\",\n",
    "        \"great idea\": \"💡\",\n",
    "        \"grateful\": \"🙏\",\n",
    "        \"can't wait to see you\": \"😊\",\n",
    "        \"adventurous mood\": \"🌍\",\n",
    "        \"enjoyed a great meal\": \"🍽️\"\n",
    "    }\n",
    "    # Convert input text to lowercase for case-insensitive matching\n",
    "    input_text = input_text.lower()\n",
    "    # Look up the input text in the dictionary of emoji mappings\n",
    "    emoji = emojis.get(input_text, \"No matching emoji found\")\n",
    "    return emoji\n",
    "\n",
    "# Example usage:\n",
    "text = input(\"Enter your feeling: \")\n",
    "emoji = get_emoji(text)\n",
    "print(f\"Emoji: {emoji}\")\n"
   ]
  },
  {
   "cell_type": "code",
   "execution_count": null,
   "id": "fc263d18-1c1c-495c-bb2e-fad8954e419a",
   "metadata": {},
   "outputs": [],
   "source": [
    "import torch\n",
    "import torch.nn as nn\n",
    "import torch.optim as optim\n",
    "from torch.utils.data import DataLoader, TensorDataset\n",
    "import numpy as np\n",
    "\n",
    "# Define the model architecture\n",
    "class EmojiClassifier(nn.Module):\n",
    "    def __init__(self, vocab_size, embedding_dim, num_classes):\n",
    "        super(EmojiClassifier, self).__init__()\n",
    "        self.embedding = nn.Embedding(vocab_size, embedding_dim)\n",
    "        self.fc = nn.Linear(embedding_dim, num_classes)\n",
    "\n",
    "    def forward(self, x):\n",
    "        embedded = self.embedding(x)\n",
    "        averaged = embedded.mean(1)\n",
    "        output = self.fc(averaged)\n",
    "        return output\n",
    "\n",
    "# Initialize model, loss function, and optimizer\n",
    "vocab_size = 10000  # Example value, replace with actual vocab size\n",
    "embedding_dim = 100  # Example value, replace with desired dimension\n",
    "num_classes = 10  # Example value, replace with actual number of classes\n",
    "learning_rate = 0.001  # Example value, adjust as needed\n",
    "batch_size = 32  # Example value, adjust as needed\n",
    "num_epochs = 10  # Example value, adjust as needed\n",
    "\n",
    "model = EmojiClassifier(vocab_size, embedding_dim, num_classes)\n",
    "criterion = nn.CrossEntropyLoss()\n",
    "optimizer = optim.Adam(model.parameters(), lr=learning_rate)\n",
    "\n",
    "# Convert data to PyTorch tensors and create DataLoader\n",
    "# Replace X_train, y_train with your actual training data\n",
    "X_train = torch.tensor(np.random.randint(0, vocab_size, (1000, 20)))  # Example data\n",
    "y_train = torch.tensor(np.random.randint(0, num_classes, (1000,)))  # Example labels\n",
    "train_dataset = TensorDataset(X_train, y_train)\n",
    "train_loader = DataLoader(train_dataset, batch_size=batch_size, shuffle=True)\n",
    "\n",
    "# Training loop\n",
    "for epoch in range(num_epochs):\n",
    "    total_loss = 0.0\n",
    "    for inputs, labels in train_loader:\n",
    "        optimizer.zero_grad()\n",
    "        outputs = model(inputs)\n",
    "        # Convert labels to torch.long data type\n",
    "        labels = labels.long()\n",
    "        loss = criterion(outputs, labels)\n",
    "        loss.backward()\n",
    "        optimizer.step()\n",
    "        total_loss += loss.item()\n",
    "    print(f\"Epoch {epoch+1}, Loss: {total_loss}\")\n",
    "\n",
    "\n",
    "# Save the trained model\n",
    "torch.save(model.state_dict(), \"emoji_classifier.pth\")\n"
   ]
  },
  {
   "cell_type": "code",
   "execution_count": null,
   "id": "882c994c-2ce7-4c87-8427-672155d6d623",
   "metadata": {},
   "outputs": [],
   "source": [
    "pip install transformers[torch]"
   ]
  },
  {
   "cell_type": "code",
   "execution_count": null,
   "id": "e78806c5-4a98-419e-87e0-55676000f87c",
   "metadata": {},
   "outputs": [],
   "source": [
    "pip install accelerate>=0.21.0"
   ]
  },
  {
   "cell_type": "code",
   "execution_count": null,
   "id": "2422649e-c0fe-4aa1-94be-a11d21010911",
   "metadata": {},
   "outputs": [],
   "source": [
    "pip install transformers --q"
   ]
  },
  {
   "cell_type": "code",
   "execution_count": null,
   "id": "feb75c05-7bdf-4c40-b80c-1e6444eb673a",
   "metadata": {},
   "outputs": [],
   "source": [
    "pip install sentencepiece --q"
   ]
  },
  {
   "cell_type": "code",
   "execution_count": 4,
   "id": "aa710f92-b4a2-4b78-84c4-c969db83fb0e",
   "metadata": {},
   "outputs": [
    {
     "data": {
      "application/vnd.jupyter.widget-view+json": {
       "model_id": "6e803ace2dcb4eca922ccece0a1fae01",
       "version_major": 2,
       "version_minor": 0
      },
      "text/plain": [
       "tokenizer_config.json:   0%|          | 0.00/48.0 [00:00<?, ?B/s]"
      ]
     },
     "metadata": {},
     "output_type": "display_data"
    },
    {
     "name": "stderr",
     "output_type": "stream",
     "text": [
      "C:\\Users\\S562137\\generative-ai-venv\\Lib\\site-packages\\huggingface_hub\\file_download.py:148: UserWarning: `huggingface_hub` cache-system uses symlinks by default to efficiently store duplicated files but your machine does not support them in C:\\Users\\S562137\\.cache\\huggingface\\hub\\models--bert-base-uncased. Caching files will still work but in a degraded version that might require more space on your disk. This warning can be disabled by setting the `HF_HUB_DISABLE_SYMLINKS_WARNING` environment variable. For more details, see https://huggingface.co/docs/huggingface_hub/how-to-cache#limitations.\n",
      "To support symlinks on Windows, you either need to activate Developer Mode or to run Python as an administrator. In order to see activate developer mode, see this article: https://docs.microsoft.com/en-us/windows/apps/get-started/enable-your-device-for-development\n",
      "  warnings.warn(message)\n"
     ]
    },
    {
     "data": {
      "application/vnd.jupyter.widget-view+json": {
       "model_id": "d3eb430b3f33442cafd335c62500a250",
       "version_major": 2,
       "version_minor": 0
      },
      "text/plain": [
       "vocab.txt:   0%|          | 0.00/232k [00:00<?, ?B/s]"
      ]
     },
     "metadata": {},
     "output_type": "display_data"
    },
    {
     "data": {
      "application/vnd.jupyter.widget-view+json": {
       "model_id": "64f43ff3651b4b73a031b23bd8cf72ef",
       "version_major": 2,
       "version_minor": 0
      },
      "text/plain": [
       "tokenizer.json:   0%|          | 0.00/466k [00:00<?, ?B/s]"
      ]
     },
     "metadata": {},
     "output_type": "display_data"
    },
    {
     "data": {
      "application/vnd.jupyter.widget-view+json": {
       "model_id": "88cb6152138f414b93a21d6cac487409",
       "version_major": 2,
       "version_minor": 0
      },
      "text/plain": [
       "config.json:   0%|          | 0.00/570 [00:00<?, ?B/s]"
      ]
     },
     "metadata": {},
     "output_type": "display_data"
    },
    {
     "data": {
      "application/vnd.jupyter.widget-view+json": {
       "model_id": "f3f18716937a4dc19da9f3b4a122d9e1",
       "version_major": 2,
       "version_minor": 0
      },
      "text/plain": [
       "model.safetensors:   0%|          | 0.00/440M [00:00<?, ?B/s]"
      ]
     },
     "metadata": {},
     "output_type": "display_data"
    },
    {
     "name": "stderr",
     "output_type": "stream",
     "text": [
      "Some weights of BertForSequenceClassification were not initialized from the model checkpoint at bert-base-uncased and are newly initialized: ['classifier.bias', 'classifier.weight']\n",
      "You should probably TRAIN this model on a down-stream task to be able to use it for predictions and inference.\n"
     ]
    }
   ],
   "source": [
    "from transformers import BertTokenizer, AutoModelForSequenceClassification\n",
    "\n",
    "# Instantiate the tokenizer\n",
    "tokenizer = BertTokenizer.from_pretrained(\"bert-base-uncased\")\n",
    "\n",
    "# Instantiate the model\n",
    "model = AutoModelForSequenceClassification.from_pretrained(\"bert-base-uncased\")\n"
   ]
  },
  {
   "cell_type": "code",
   "execution_count": 5,
   "id": "449f5602-ee3b-4580-a72f-7ed1d038fe7e",
   "metadata": {},
   "outputs": [
    {
     "name": "stderr",
     "output_type": "stream",
     "text": [
      "\n",
      "[notice] A new release of pip available: 22.3 -> 24.0\n",
      "[notice] To update, run: python.exe -m pip install --upgrade pip\n"
     ]
    }
   ],
   "source": [
    "!pip install huggingface_hub --q"
   ]
  },
  {
   "cell_type": "code",
   "execution_count": 8,
   "id": "d59dfad5-821b-4b20-bba2-8f9baf2f4de4",
   "metadata": {},
   "outputs": [
    {
     "name": "stderr",
     "output_type": "stream",
     "text": [
      "Access is denied.\n"
     ]
    }
   ],
   "source": [
    "!huggingface-cli login"
   ]
  },
  {
   "cell_type": "code",
   "execution_count": null,
   "id": "f6b39ac7-7843-4a45-9c78-8e66be238e4e",
   "metadata": {},
   "outputs": [],
   "source": []
  }
 ],
 "metadata": {
  "kernelspec": {
   "display_name": "Python 3 (ipykernel)",
   "language": "python",
   "name": "python3"
  },
  "language_info": {
   "codemirror_mode": {
    "name": "ipython",
    "version": 3
   },
   "file_extension": ".py",
   "mimetype": "text/x-python",
   "name": "python",
   "nbconvert_exporter": "python",
   "pygments_lexer": "ipython3",
   "version": "3.11.0"
  }
 },
 "nbformat": 4,
 "nbformat_minor": 5
}
